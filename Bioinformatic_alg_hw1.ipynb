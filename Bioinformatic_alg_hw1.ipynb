{
  "nbformat": 4,
  "nbformat_minor": 0,
  "metadata": {
    "colab": {
      "provenance": [],
      "authorship_tag": "ABX9TyMZbD2uL48eawHwXER0bnl1",
      "include_colab_link": true
    },
    "kernelspec": {
      "name": "python3",
      "display_name": "Python 3"
    },
    "language_info": {
      "name": "python"
    }
  },
  "cells": [
    {
      "cell_type": "markdown",
      "metadata": {
        "id": "view-in-github",
        "colab_type": "text"
      },
      "source": [
        "<a href=\"https://colab.research.google.com/github/ravenclown/ML-Practices/blob/main/Bioinformatic_alg_hw1.ipynb\" target=\"_parent\"><img src=\"https://colab.research.google.com/assets/colab-badge.svg\" alt=\"Open In Colab\"/></a>"
      ]
    },
    {
      "cell_type": "markdown",
      "source": [
        "##Problem\n",
        "A DNA string is a reverse palindrome if it is equal to its reverse complement. For instance, GCATGC is a reverse palindrome because its reverse complement is GCATGC. See Figure 2.\n",
        "\n",
        "#Given:\n",
        "A DNA string of length at most 1 kbp in FASTA format.\n",
        "\n",
        "##Return:\n",
        "The position and length of every reverse palindrome in the string having length between 4 and 12. You may return these pairs in any order."
      ],
      "metadata": {
        "id": "sAStBg9mn1Dg"
      }
    },
    {
      "cell_type": "code",
      "source": [
        "!pip install Bio -q"
      ],
      "metadata": {
        "id": "_8vSP3b3n6HD"
      },
      "execution_count": null,
      "outputs": []
    },
    {
      "cell_type": "markdown",
      "source": [
        "Library calls and functions"
      ],
      "metadata": {
        "id": "_oVlmLxfsr9G"
      }
    },
    {
      "cell_type": "code",
      "source": [
        "from Bio.Seq import Seq\n",
        "from Bio import SeqIO\n",
        "import time\n",
        "import matplotlib.pyplot as plt\n",
        "\n",
        "def check_rev_palindrome(seq):\n",
        "    if (seq == seq.reverse_complement()):\n",
        "        return 1\n",
        "    else:\n",
        "        return 0\n",
        "\n",
        "def read_fasta_file(file):\n",
        "    for seq_record in SeqIO.parse(file, \"fasta\"):\n",
        "        return seq_record.seq\n",
        "\n",
        "seq = read_fasta_file(\"rosalind_revp_1_dataset.txt\")"
      ],
      "metadata": {
        "id": "vqu6V5ixn3Qb"
      },
      "execution_count": null,
      "outputs": []
    },
    {
      "cell_type": "markdown",
      "source": [
        "Brute Force ( steps are 4,5,6,..12)"
      ],
      "metadata": {
        "id": "oOrnDlmYsvxv"
      }
    },
    {
      "cell_type": "code",
      "source": [
        "def brute_force_v1(seq):\n",
        "  t0 = time.time()\n",
        "  final_list=[]\n",
        "  for i in range(4,13):\n",
        "      for j in range(len(seq)-i+1):\n",
        "          if check_rev_palindrome(seq[j:j+i]):\n",
        "              a=(j+1,i)\n",
        "              final_list.append(a)\n",
        "  t1 = time.time()\n",
        "  total = t1-t0\n",
        "  final_list.sort()\n",
        "  ##print(\"\\n\".join([f\"{a}, {b}\" for a, b in final_list]))\n",
        "  return final_list,total\n",
        "result,total=brute_force_v1(seq)\n"
      ],
      "metadata": {
        "id": "2Ec73AnOsv-c"
      },
      "execution_count": null,
      "outputs": []
    },
    {
      "cell_type": "markdown",
      "source": [
        "Range is halved ( steps are 4,6,8,..12)"
      ],
      "metadata": {
        "id": "tAClnecls2Hr"
      }
    },
    {
      "cell_type": "code",
      "source": [
        "def brute_force_v2(seq):\n",
        "  t0 = time.time()\n",
        "  final_list=[]\n",
        "  for i in range(4,13,2):\n",
        "      for j in range(len(seq)-i+1):\n",
        "          if check_rev_palindrome(seq[j:j+i]):\n",
        "              a=(j+1,i)\n",
        "              final_list.append(a)\n",
        "  t1 = time.time()\n",
        "  total = t1-t0\n",
        "  final_list.sort()\n",
        "  ##print(\"\\n\".join([f\"{a}, {b}\" for a, b in final_list]))\n",
        "  return final_list,total\n",
        "result,total=brute_force_v2(seq)"
      ],
      "metadata": {
        "id": "GYtMNssys2Vd"
      },
      "execution_count": null,
      "outputs": []
    },
    {
      "cell_type": "markdown",
      "source": [
        "ChatGPT's optimized version"
      ],
      "metadata": {
        "id": "TFFXQ68DvA3C"
      }
    },
    {
      "cell_type": "code",
      "source": [
        "def optimized_find_reverse_palindromes(seq):\n",
        "    results = []\n",
        "    start_time = time.time()\n",
        "    for length in range(4, 13):\n",
        "        for start in range(len(seq) - length + 1):\n",
        "            subseq = seq[start:start+length]\n",
        "            if check_rev_palindrome(subseq):\n",
        "                results.append((start+1, length))\n",
        "    end_time = time.time()\n",
        "    total = end_time - start_time\n",
        "    return results, total\n",
        "result,total=optimized_find_reverse_palindromes(seq)"
      ],
      "metadata": {
        "id": "p4jvj1XRvBDj"
      },
      "execution_count": null,
      "outputs": []
    },
    {
      "cell_type": "code",
      "source": [
        "v1_times=[]\n",
        "v2_times=[]\n",
        "v3_times=[]\n",
        "\n",
        "for i in range(100):\n",
        "  _,t1=brute_force_v1(seq)\n",
        "  _,t2=brute_force_v2(seq)\n",
        "  _,t3=optimized_find_reverse_palindromes(seq)\n",
        "  v1_times.append(t1)\n",
        "  v2_times.append(t2)\n",
        "  v3_times.append(t3)\n"
      ],
      "metadata": {
        "id": "ie05zJfkvaMz"
      },
      "execution_count": null,
      "outputs": []
    },
    {
      "cell_type": "code",
      "source": [
        "plt.figure(figsize=(10, 6))\n",
        "data = [v1_times,v2_times,v3_times]\n",
        "\n",
        "plt.boxplot(data, labels=[\"Brute Force V1\",\"Brute Force V2\", \"Optimized V3\"], patch_artist=True,\n",
        "            boxprops=dict(facecolor=\"lightblue\", color=\"black\"),\n",
        "            whiskerprops=dict(color=\"black\"),\n",
        "            flierprops=dict(markerfacecolor=\"red\", marker=\"o\", markersize=5))\n",
        "\n",
        "plt.title(\"Box Plot of Execution Times for 100 Runs\")\n",
        "plt.ylabel(\"Execution Time (seconds)\")\n",
        "plt.xlabel(\"Algorithm\")\n",
        "plt.grid(True)\n",
        "plt.show()"
      ],
      "metadata": {
        "colab": {
          "base_uri": "https://localhost:8080/",
          "height": 600
        },
        "id": "QY9pEi_xwtG6",
        "outputId": "a0d58c80-5d1c-4f42-f618-a0f490ce382e"
      },
      "execution_count": null,
      "outputs": [
        {
          "output_type": "stream",
          "name": "stderr",
          "text": [
            "<ipython-input-67-9d31d825623e>:4: MatplotlibDeprecationWarning: The 'labels' parameter of boxplot() has been renamed 'tick_labels' since Matplotlib 3.9; support for the old name will be dropped in 3.11.\n",
            "  plt.boxplot(data, labels=[\"Brute Force V1\",\"Brute Force V2\", \"Optimized V3\"], patch_artist=True,\n"
          ]
        },
        {
          "output_type": "display_data",
          "data": {
            "text/plain": [
              "<Figure size 1000x600 with 1 Axes>"
            ],
            "image/png": "[encoded data removed]"
          },
          "metadata": {}
        }
      ]
    }
  ]
}